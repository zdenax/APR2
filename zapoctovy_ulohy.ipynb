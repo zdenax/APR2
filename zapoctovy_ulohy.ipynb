{
 "cells": [
  {
   "cell_type": "markdown",
   "id": "ddbbb789",
   "metadata": {},
   "source": [
    "C\n",
    "---"
   ]
  },
  {
   "cell_type": "markdown",
   "id": "089330f6",
   "metadata": {},
   "source": [
    "Úloha 1 - Počítání čísel\n",
    "Vytvořte program, který provede následující kroky:\n",
    "● Načte textový soubor numbers.txt, který obsahuje na každém řádku jedno nebo více celých\n",
    "čísel oddělených mezerami. Předpokládejte, že soubor je umístěn ve stejném adresáři jako\n",
    "váš program.\n",
    "● Spočítá součet všech čísel v souboru. Soubor může obsahovat prázdné řádky nebo řádky\n",
    "bez čísel – ty ignorujte.\n",
    "● Výsledek uloží do souboru sum.txt ve formátu: Součet čísel: <hodnota>\n",
    "Příklad: Obsah souboru sum.txt:\n",
    "1 2 3\n",
    "4 5\n",
    "6 7 8 9\n",
    "Obsah vytvořeného souboru sum.txt:\n",
    "Součet čísel: 45\n"
   ]
  },
  {
   "cell_type": "code",
   "execution_count": 79,
   "id": "c5a7836c",
   "metadata": {},
   "outputs": [
    {
     "ename": "FileNotFoundError",
     "evalue": "[Errno 2] No such file or directory: 'cisla.txt'",
     "output_type": "error",
     "traceback": [
      "\u001b[31m---------------------------------------------------------------------------\u001b[39m",
      "\u001b[31mFileNotFoundError\u001b[39m                         Traceback (most recent call last)",
      "\u001b[36mCell\u001b[39m\u001b[36m \u001b[39m\u001b[32mIn[79]\u001b[39m\u001b[32m, line 3\u001b[39m\n\u001b[32m      1\u001b[39m seznam = [] \u001b[38;5;66;03m#globalni aby se stim dalo pracovat\u001b[39;00m\n\u001b[32m----> \u001b[39m\u001b[32m3\u001b[39m \u001b[38;5;28;01mwith\u001b[39;00m \u001b[38;5;28;43mopen\u001b[39;49m\u001b[43m(\u001b[49m\u001b[33;43m\"\u001b[39;49m\u001b[33;43mcisla.txt\u001b[39;49m\u001b[33;43m\"\u001b[39;49m\u001b[43m,\u001b[49m\u001b[43m \u001b[49m\u001b[33;43m\"\u001b[39;49m\u001b[33;43mr\u001b[39;49m\u001b[33;43m\"\u001b[39;49m\u001b[43m)\u001b[49m \u001b[38;5;28;01mas\u001b[39;00m soubor, \u001b[38;5;28mopen\u001b[39m(\u001b[33m\"\u001b[39m\u001b[33msum.txt\u001b[39m\u001b[33m\"\u001b[39m, \u001b[33m\"\u001b[39m\u001b[33mw\u001b[39m\u001b[33m\"\u001b[39m) \u001b[38;5;28;01mas\u001b[39;00m vystup:\n\u001b[32m      4\u001b[39m     radky = soubor.readlines() \u001b[38;5;66;03m#nactu soubor po radcich\u001b[39;00m\n\u001b[32m      5\u001b[39m     \u001b[38;5;28mprint\u001b[39m(radky)\n",
      "\u001b[36mFile \u001b[39m\u001b[32m~/Library/Mobile Documents/com~apple~CloudDocs/AAAVysoká Škola/AAAPROGRAMKO/APR_2/BODIKY/.venv/lib/python3.13/site-packages/IPython/core/interactiveshell.py:326\u001b[39m, in \u001b[36m_modified_open\u001b[39m\u001b[34m(file, *args, **kwargs)\u001b[39m\n\u001b[32m    319\u001b[39m \u001b[38;5;28;01mif\u001b[39;00m file \u001b[38;5;129;01min\u001b[39;00m {\u001b[32m0\u001b[39m, \u001b[32m1\u001b[39m, \u001b[32m2\u001b[39m}:\n\u001b[32m    320\u001b[39m     \u001b[38;5;28;01mraise\u001b[39;00m \u001b[38;5;167;01mValueError\u001b[39;00m(\n\u001b[32m    321\u001b[39m         \u001b[33mf\u001b[39m\u001b[33m\"\u001b[39m\u001b[33mIPython won\u001b[39m\u001b[33m'\u001b[39m\u001b[33mt let you open fd=\u001b[39m\u001b[38;5;132;01m{\u001b[39;00mfile\u001b[38;5;132;01m}\u001b[39;00m\u001b[33m by default \u001b[39m\u001b[33m\"\u001b[39m\n\u001b[32m    322\u001b[39m         \u001b[33m\"\u001b[39m\u001b[33mas it is likely to crash IPython. If you know what you are doing, \u001b[39m\u001b[33m\"\u001b[39m\n\u001b[32m    323\u001b[39m         \u001b[33m\"\u001b[39m\u001b[33myou can use builtins\u001b[39m\u001b[33m'\u001b[39m\u001b[33m open.\u001b[39m\u001b[33m\"\u001b[39m\n\u001b[32m    324\u001b[39m     )\n\u001b[32m--> \u001b[39m\u001b[32m326\u001b[39m \u001b[38;5;28;01mreturn\u001b[39;00m \u001b[43mio_open\u001b[49m\u001b[43m(\u001b[49m\u001b[43mfile\u001b[49m\u001b[43m,\u001b[49m\u001b[43m \u001b[49m\u001b[43m*\u001b[49m\u001b[43margs\u001b[49m\u001b[43m,\u001b[49m\u001b[43m \u001b[49m\u001b[43m*\u001b[49m\u001b[43m*\u001b[49m\u001b[43mkwargs\u001b[49m\u001b[43m)\u001b[49m\n",
      "\u001b[31mFileNotFoundError\u001b[39m: [Errno 2] No such file or directory: 'cisla.txt'"
     ]
    }
   ],
   "source": [
    "seznam = [] #globalni aby se stim dalo pracovat\n",
    "\n",
    "with open(\"cisla.txt\", \"r\") as soubor, open(\"sum.txt\", \"w\") as vystup:\n",
    "    radky = soubor.readlines() #nactu soubor po radcich\n",
    "    print(radky)\n",
    "    for radek in radky:\n",
    "        rozdeleny = radek.split(\" \")\n",
    "        print(radek) #teoretickej debug\n",
    "        for slovo in rozdeleny:\n",
    "            seznam.append(int(slovo)) \n",
    "            \n",
    "\n",
    "    suma_sumarum = sum(seznam)\n",
    "    vystup.write(f\"Celkove suma je: {suma_sumarum}\")\n",
    "         \n",
    "with open(\"sum.txt\", \"r\") as soubor:\n",
    "     radky = soubor.readlines()\n",
    "     for radek in radky:\n",
    "          print(radek)\n",
    "    \n"
   ]
  },
  {
   "cell_type": "markdown",
   "id": "6c92d467",
   "metadata": {},
   "source": [
    "Úloha 2 - Rotace seznamu\n",
    "Napište funkci rotate_list(lst: list, n: int) -> list, která přijme seznam lst a\n",
    "celé číslo n. Funkce vrátí nový seznam, který vznikne rotací původního seznamu o n míst doprava.\n",
    "Funkce musí správně fungovat pro kladné i záporné hodnoty n. Rotace o délku seznamu nebo\n",
    "jeho násobky nemění seznam.\n",
    "Příklad vstupu a výstupu:\n",
    "print(rotate_list(lst=[1,2,3,4,5],n=2)) # Výstup: [4, 5, 1, 2, 3]\n",
    "print(rotate_list(lst=[1,2,3,4,5],n=-1)) # Výstup: [2, 3, 4, 5, 1]"
   ]
  },
  {
   "cell_type": "code",
   "execution_count": null,
   "id": "9e1905e2",
   "metadata": {},
   "outputs": [
    {
     "name": "stdout",
     "output_type": "stream",
     "text": [
      "[4, 8, 6, 1, 6, 4]\n"
     ]
    }
   ],
   "source": [
    "def rotate_list(lst:list, n:int)->list:\n",
    "    pulka1 = lst[0:n+1] #+1 protoze indexace v pythonu proste xd jinak by to nefacahlo jak ma\n",
    "    pulka2 = lst[n:-1]\n",
    "    kompleto = pulka2 + pulka1\n",
    "\n",
    "    return kompleto\n",
    "\n",
    "\n",
    "lst = [1,6,4,8,6,2]\n",
    "print(rotate_list(lst, 2))\n"
   ]
  },
  {
   "cell_type": "markdown",
   "id": "30a6af82",
   "metadata": {},
   "source": [
    "Úloha 3 - Zjištění anagramu\n",
    "Napište funkci are_anagrams(word1: str, word2: str) -> bool, která přijme dva\n",
    "řetězce word1 a word2. Funkce vrátí True, pokud jsou řetězce anagramy, jinak vrátí False.\n",
    "Anagramy jsou slova, která obsahují stejná písmena, ale v jiném pořadí (počet výskytů písmen\n",
    "musí také sedět). Ignorujte velikost písmen, mezery a interpunkci. Pokud jsou slova totožná, tak je\n",
    "také považujte za anagramy.\n",
    "Příklad vstupu a výstupu:\n",
    "print(are_anagrams(word1=\"listen\", word2=\"silent\")) # Výstup: True\n",
    "print(are_anagrams(word1=\"python\", word2=\"typhon\")) # Výstup: True\n",
    "print(are_anagrams(word1=\"hello\", word2=\"world\")) # Výstup: False"
   ]
  },
  {
   "cell_type": "code",
   "execution_count": null,
   "id": "f6ff95db",
   "metadata": {},
   "outputs": [
    {
     "data": {
      "text/plain": [
       "False"
      ]
     },
     "execution_count": 76,
     "metadata": {},
     "output_type": "execute_result"
    }
   ],
   "source": [
    "from collections import Counter\n",
    "\n",
    "word1 = \"aab\"\n",
    "word2 = \"abb\"\n",
    "\n",
    "Counter(word1) == Counter(word2)"
   ]
  },
  {
   "cell_type": "code",
   "execution_count": null,
   "id": "efcdce4b",
   "metadata": {},
   "outputs": [],
   "source": [
    "def are_anagrams(word1:str, word2:str)->bool:\n",
    "    delka = False\n",
    "    pismena = False\n",
    "\n",
    "    if len(word1) == len(word2): #overeni delky\n",
    "        delka = True\n",
    "    else:\n",
    "        delka = False\n",
    "\n",
    "    word1.lower().strip()\n",
    "    word2.lower().strip()\n",
    "\n",
    "    for pismeno in word1: #pro kazde jedno pismeno ve word1 se podivej zda se pismeno nachazi ve word2 popkud ano tak pravda\n",
    "        if pismeno in word2:\n",
    "            pismena = True\n",
    "        else:\n",
    "            pismeno = False\n",
    "\n",
    "    if delka and pismena:\n",
    "        return f\"Slova {word1} a {word2} jsou anagram\"\n",
    "    else:\n",
    "        return f\"No No NO\"\n",
    "\n",
    "\n",
    "\n",
    "\n",
    "\n",
    "\n",
    "\n",
    "    "
   ]
  },
  {
   "cell_type": "markdown",
   "id": "007eb75b",
   "metadata": {},
   "source": [
    "D\n",
    "---"
   ]
  },
  {
   "cell_type": "markdown",
   "id": "c14537a0",
   "metadata": {},
   "source": [
    "Úloha 1 - Výpočet četností slov\n",
    "Vytvořte program, který provede následující kroky:\n",
    "● Načte textový soubor words.txt, kde každý řádek obsahuje jedno nebo více slov\n",
    "oddělených mezerami.\n",
    "● Spočítá četnost každého slova (ignoruje velikost písmen). Je povoleno použít čítače z\n",
    "modulu collections.\n",
    "● Výsledek uloží do souboru frequencies.txt ve formátu: <slovo>: <četnost>. Slova\n",
    "musí být ve výstupním souboru seřazena abecedně.\n",
    "Příklad: Obsah souboru words.txt:\n",
    "Ahoj svět\n",
    "Ahoj všichni\n",
    "svět je krásný\n",
    "Obsah vytvořeného souboru frequencies.txt:\n",
    "ahoj: 2\n",
    "je: 1\n",
    "krásný: 1\n",
    "svět: 2\n",
    "všichni: 1"
   ]
  },
  {
   "cell_type": "code",
   "execution_count": null,
   "id": "82e09707",
   "metadata": {},
   "outputs": [
    {
     "data": {
      "text/plain": [
       "{'ahoj': 4, 'pavel': 3, 'nazdar': 1}"
      ]
     },
     "execution_count": 47,
     "metadata": {},
     "output_type": "execute_result"
    }
   ],
   "source": [
    "seznam = {}\n",
    "\n",
    "with open(\"slova.txt\", \"w\") as soubor:\n",
    "    soubor.write(\"ahoj pavel\\npavel ahoj\\nahoj\\nnazdar\\npavel\\nahoj\")\n",
    "\n",
    "with open(\"slova.txt\", \"r\") as soubor:\n",
    "    radky = soubor.readlines()\n",
    "    for radek in radky:\n",
    "        slova = radek.strip().split() #rozdeleni na slova\n",
    "        for slovo in slova:\n",
    "            if slovo not in seznam.keys():\n",
    "                seznam[slovo] = 1\n",
    "            else:\n",
    "                seznam[slovo] += 1                \n",
    "\n",
    "seznam"
   ]
  },
  {
   "cell_type": "code",
   "execution_count": null,
   "id": "f6027260",
   "metadata": {},
   "outputs": [
    {
     "data": {
      "text/plain": [
       "Counter({'ahoj': 4, 'pavel': 3, 'nazdar': 1})"
      ]
     },
     "execution_count": 74,
     "metadata": {},
     "output_type": "execute_result"
    }
   ],
   "source": [
    "from collections import Counter\n",
    "\n",
    "slova = []\n",
    "\n",
    "with open(\"slova.txt\", \"w\") as soubor:\n",
    "    soubor.write(\"ahoj pavel\\npavel ahoj\\nahoj\\nnazdar\\npavel\\nahoj\")\n",
    "    \n",
    "with open(\"slova.txt\", \"r\") as soubor:\n",
    "    radky = soubor.readlines()\n",
    "    for radek in radky:\n",
    "        for slovo in radek.strip().split():  \n",
    "            slova.append(slovo)\n",
    "citac = Counter(slova)\n",
    "citac"
   ]
  },
  {
   "cell_type": "code",
   "execution_count": null,
   "id": "cb605597",
   "metadata": {},
   "outputs": [],
   "source": [
    "seznam = {} #musim to udelat jako slovnik.. slovvo je key\n",
    "\n",
    "with open(\"worlds.txt\", \"r\") as soubor, open(\"frequencies.txt\", \"w\") as vystup:\n",
    "    radky = soubor.readlines()\n",
    "    for radek in radky:\n",
    "        slova = radek.strip().split() #rozdeleni na slova\n",
    "        for slovo in slova:\n",
    "            for slovvo, cetnost in enumerate(slovo.lower):\n",
    "                if slovvo not in seznam:\n",
    "                    seznam.append(slovvo, cetnost)\n",
    "                else:\n",
    "                    cetnost +=1\n",
    "\n",
    "\n",
    "\n",
    "        #POCITANI CETNOSTI MAM DOOST NAHOUBY I KNOW     A JE TO PRAVDEPODOBNE DOOST SPATNE PAC ASI NEVIM JAK FUNGUJE ENUMERATE\n",
    "        \n",
    "                \n",
    "                "
   ]
  },
  {
   "cell_type": "markdown",
   "id": "c345e8e0",
   "metadata": {},
   "source": [
    "Úloha 2 - Fibonacciho číslo na pozici\n",
    "Napište funkci fibonacci(n: int) -> int, která přijme celé číslo n a vrátí n-té Fibonacciho\n",
    "číslo. Fibonacciho posloupnost začíná 0 a 1, přičemž každé další číslo je součtem dvou\n",
    "předchozích: 0, 1, 1, 2, 3, 5, 8, 13, 21, 34, 55, …\n",
    "Příklad vstupu a výstupu:\n",
    "print(fibonacci(0)) # Výstup: 0\n",
    "print(fibonacci(1)) # Výstup: 1\n",
    "print(fibonacci(7)) # Výstup: 13"
   ]
  },
  {
   "cell_type": "code",
   "execution_count": null,
   "id": "5d55fa80",
   "metadata": {},
   "outputs": [
    {
     "data": {
      "text/plain": [
       "13"
      ]
     },
     "execution_count": 8,
     "metadata": {},
     "output_type": "execute_result"
    }
   ],
   "source": [
    "def fibonacchi(n:int): #FIXME KURVA ZAPAMATUJ SI TO JAK TO FUNGUJE !!!!!!\n",
    "    listik = [0,1]\n",
    "    for i in range(n):\n",
    "        listik.append(listik[i]+listik[i+1])\n",
    "    \n",
    "    \n",
    "    return listik[n]\n",
    "\n",
    "fibonacchi(7)"
   ]
  },
  {
   "cell_type": "code",
   "execution_count": null,
   "id": "97334eef",
   "metadata": {},
   "outputs": [
    {
     "data": {
      "text/plain": [
       "13"
      ]
     },
     "execution_count": 9,
     "metadata": {},
     "output_type": "execute_result"
    }
   ],
   "source": [
    "def fibonacchi(n:int)->list:\n",
    "    listik = [0,1]\n",
    "    for i in range(n):\n",
    "        listik.append(listik[i]+listik[i+1]) \n",
    "        #to nam rika, pridej do listu \n",
    "        #momentalni iterovaný znak ale než to udělaáš tak k němu ještě přičti jeho sama +1\n",
    "    return listik[n] #vrat nam pozadovany cislo ktere je na pozici n\n",
    "\n",
    "fibonacchi(7)"
   ]
  },
  {
   "cell_type": "markdown",
   "id": "3a7e1f78",
   "metadata": {},
   "source": [
    "Úloha 3 - Získání všech podřetězců\n",
    "Napište funkci all\n",
    "substrings(text: str) -> list, která přijme řetězec text a vrátí\n",
    "_\n",
    "seznam všech jeho podřetězců. Výsledek by neměl obsahovat duplicity.\n",
    "Příklad vstupu a výstupu:\n",
    "text = \"abc\"\n",
    "print(all\n",
    "substrings(text))\n",
    "_\n",
    "# Výstup: ['a'\n",
    ",\n",
    "'ab'\n",
    ",\n",
    "'abc'\n",
    ",\n",
    "'b'\n",
    ",\n",
    "'bc'\n",
    ",\n",
    "'c']"
   ]
  },
  {
   "cell_type": "code",
   "execution_count": null,
   "id": "d7619f23",
   "metadata": {},
   "outputs": [
    {
     "data": {
      "text/plain": [
       "['d', 'dk', 'i', 'id', 'idk', 'k']"
      ]
     },
     "execution_count": 11,
     "metadata": {},
     "output_type": "execute_result"
    }
   ],
   "source": [
    "def all_substrings(text:str)->list:\n",
    "    podretezece = set() #vyuziju krasne mnozinyset ktera odstranuje duplicity\n",
    "    for i in range(len(text)): #indexujeme kazde pismenko od zacatku po konec textu\n",
    "        for j in range(i + 1, len(text)+1): #rikam ze pro kazdé j(ktere je i+1) indexuju vzdy o jeden index dal nez je i až do uplneho konce textu včetně\n",
    "            podretezece.add(text[i:j]) #vyuzivam mnozinovou funkci add a pridavam pismenko/řetězec který je od i do j \n",
    "    return sorted(list(podretezece))\n",
    "\n",
    "all_substrings(\"idk\")\n"
   ]
  },
  {
   "cell_type": "code",
   "execution_count": null,
   "id": "38857cc1",
   "metadata": {},
   "outputs": [
    {
     "data": {
      "text/plain": [
       "['A', 'AH', 'AHO', 'AHOJ', 'H', 'HO', 'HOJ', 'J', 'O', 'OJ']"
      ]
     },
     "execution_count": 12,
     "metadata": {},
     "output_type": "execute_result"
    }
   ],
   "source": [
    "def all_substrings(textiik:str)->list: #vstup je text a vystup je seznam/list substringů\n",
    "    substrings = set() #vytvorime si mnozinu, ktera nam krasne kontroluje duplicity\n",
    "    for i in range(len(textiik)): #indexace pres kazdy charakter do konce\n",
    "        for j in range(i +1, len(textiik) +1 ): #a v te same chvilce prohledavame ojeden dal charakter\n",
    "            substrings.add(textiik[i:j]) # a v kazdem jednom cyklu pridavame do mnoziny substring nalezite znaky z textu ktere odpovidaji indexu od i do j\n",
    "\n",
    "    return sorted(list(substrings)) #vracime LIST JO PREVADIME MNOZINU NA LIST A TRIDIME JI\n",
    "\n",
    "all_substrings(\"AHOJ\")"
   ]
  },
  {
   "cell_type": "code",
   "execution_count": null,
   "id": "276ea80a",
   "metadata": {},
   "outputs": [
    {
     "data": {
      "text/plain": [
       "13"
      ]
     },
     "execution_count": 18,
     "metadata": {},
     "output_type": "execute_result"
    }
   ],
   "source": [
    "def fibonacci(n:int)->int:\n",
    "    idk = [0,1]\n",
    "    for i in range(n):\n",
    "        idk.append(idk[i] + idk[i+1])\n",
    "    return idk[n]\n",
    "\n",
    "(fibonacci(7))"
   ]
  },
  {
   "cell_type": "code",
   "execution_count": null,
   "id": "cc3f3cb5",
   "metadata": {},
   "outputs": [
    {
     "data": {
      "text/plain": [
       "13"
      ]
     },
     "execution_count": 39,
     "metadata": {},
     "output_type": "execute_result"
    }
   ],
   "source": [
    "def fib(n):\n",
    "    if n <= 1: return n\n",
    "    return fib(n-1) + fib(n-2)\n",
    "\n",
    "fib(7)"
   ]
  },
  {
   "cell_type": "code",
   "execution_count": null,
   "id": "985826ee",
   "metadata": {},
   "outputs": [
    {
     "data": {
      "text/plain": [
       "720"
      ]
     },
     "execution_count": 40,
     "metadata": {},
     "output_type": "execute_result"
    }
   ],
   "source": [
    "def fact(n):\n",
    "    if n <= 1: return 1\n",
    "    return n * fact(n-1)\n",
    "\n",
    "fact(6)"
   ]
  },
  {
   "cell_type": "markdown",
   "id": "a7288c2b",
   "metadata": {},
   "source": [
    "Úloha 1 - Přidání čísel řádků\n",
    "Vytvořte program, který provede následující kroky:\n",
    "● Načte textový soubor input.txt, kde každý řádek obsahuje text.\n",
    "● Přidá čísla řádků na začátek každého řádku ve formátu: X: <původní text>, kde X je\n",
    "číslo řádku (počínaje 1). Výsledek uloží do souboru numbered.txt. Zachovejte pořadí a\n",
    "obsah řádků z původního souboru. Pokud je soubor prázdný, vytvořte prázdný výstupní\n",
    "soubor.\n",
    "Příklad: Obsah souboru input.txt:\n",
    "Ahoj\n",
    "Python je skvělý\n",
    "Programování je zábava\n",
    "Obsah vytvořeného souboru numbered.txt:\n",
    "1: Ahoj\n",
    "2: Python je skvělý\n",
    "3: Programování je zábava"
   ]
  },
  {
   "cell_type": "code",
   "execution_count": null,
   "id": "1567dd85",
   "metadata": {},
   "outputs": [
    {
     "ename": "FileNotFoundError",
     "evalue": "[Errno 2] No such file or directory: 'input,txt'",
     "output_type": "error",
     "traceback": [
      "\u001b[31m---------------------------------------------------------------------------\u001b[39m",
      "\u001b[31mFileNotFoundError\u001b[39m                         Traceback (most recent call last)",
      "\u001b[36mCell\u001b[39m\u001b[36m \u001b[39m\u001b[32mIn[8]\u001b[39m\u001b[32m, line 1\u001b[39m\n\u001b[32m----> \u001b[39m\u001b[32m1\u001b[39m \u001b[38;5;28;01mwith\u001b[39;00m \u001b[38;5;28;43mopen\u001b[39;49m\u001b[43m(\u001b[49m\u001b[33;43m\"\u001b[39;49m\u001b[33;43minput,txt\u001b[39;49m\u001b[33;43m\"\u001b[39;49m\u001b[43m,\u001b[49m\u001b[43m \u001b[49m\u001b[33;43m\"\u001b[39;49m\u001b[33;43mr\u001b[39;49m\u001b[33;43m\"\u001b[39;49m\u001b[43m)\u001b[49m \u001b[38;5;28;01mas\u001b[39;00m soubor, \u001b[38;5;28mopen\u001b[39m(\u001b[33m\"\u001b[39m\u001b[33mnumbered.txt\u001b[39m\u001b[33m\"\u001b[39m, \u001b[33m\"\u001b[39m\u001b[33mw\u001b[39m\u001b[33m\"\u001b[39m) \u001b[38;5;28;01mas\u001b[39;00m vystup:\n\u001b[32m      2\u001b[39m     radky = soubor.readlines()\n\u001b[32m      3\u001b[39m     \u001b[38;5;28;01mfor\u001b[39;00m cislo, radek \u001b[38;5;129;01min\u001b[39;00m \u001b[38;5;28menumerate\u001b[39m(radky, start=\u001b[32m1\u001b[39m):\n",
      "\u001b[36mFile \u001b[39m\u001b[32m~\\AppData\\Roaming\\Python\\Python313\\site-packages\\IPython\\core\\interactiveshell.py:326\u001b[39m, in \u001b[36m_modified_open\u001b[39m\u001b[34m(file, *args, **kwargs)\u001b[39m\n\u001b[32m    319\u001b[39m \u001b[38;5;28;01mif\u001b[39;00m file \u001b[38;5;129;01min\u001b[39;00m {\u001b[32m0\u001b[39m, \u001b[32m1\u001b[39m, \u001b[32m2\u001b[39m}:\n\u001b[32m    320\u001b[39m     \u001b[38;5;28;01mraise\u001b[39;00m \u001b[38;5;167;01mValueError\u001b[39;00m(\n\u001b[32m    321\u001b[39m         \u001b[33mf\u001b[39m\u001b[33m\"\u001b[39m\u001b[33mIPython won\u001b[39m\u001b[33m'\u001b[39m\u001b[33mt let you open fd=\u001b[39m\u001b[38;5;132;01m{\u001b[39;00mfile\u001b[38;5;132;01m}\u001b[39;00m\u001b[33m by default \u001b[39m\u001b[33m\"\u001b[39m\n\u001b[32m    322\u001b[39m         \u001b[33m\"\u001b[39m\u001b[33mas it is likely to crash IPython. If you know what you are doing, \u001b[39m\u001b[33m\"\u001b[39m\n\u001b[32m    323\u001b[39m         \u001b[33m\"\u001b[39m\u001b[33myou can use builtins\u001b[39m\u001b[33m'\u001b[39m\u001b[33m open.\u001b[39m\u001b[33m\"\u001b[39m\n\u001b[32m    324\u001b[39m     )\n\u001b[32m--> \u001b[39m\u001b[32m326\u001b[39m \u001b[38;5;28;01mreturn\u001b[39;00m \u001b[43mio_open\u001b[49m\u001b[43m(\u001b[49m\u001b[43mfile\u001b[49m\u001b[43m,\u001b[49m\u001b[43m \u001b[49m\u001b[43m*\u001b[49m\u001b[43margs\u001b[49m\u001b[43m,\u001b[49m\u001b[43m \u001b[49m\u001b[43m*\u001b[49m\u001b[43m*\u001b[49m\u001b[43mkwargs\u001b[49m\u001b[43m)\u001b[49m\n",
      "\u001b[31mFileNotFoundError\u001b[39m: [Errno 2] No such file or directory: 'input,txt'"
     ]
    }
   ],
   "source": [
    "with open(\"input,txt\", \"r\") as soubor, open(\"numbered.txt\", \"w\") as vystup:\n",
    "    radky = soubor.readlines()\n",
    "    if not radky:\n",
    "        vystup.write(radky)\n",
    "    else:\n",
    "        for cislo, radek in enumerate(radky, start=1):\n",
    "            vystup.write(f\"{cislo}:, {radek}\")\n",
    "\n"
   ]
  },
  {
   "cell_type": "markdown",
   "id": "2e8d2cd1",
   "metadata": {},
   "source": [
    "vim ze musim poiuzit enumerate ale nevim jak na ni no udelam si par uloh od chata\n",
    "---"
   ]
  },
  {
   "cell_type": "code",
   "execution_count": null,
   "id": "f25dc79b",
   "metadata": {},
   "outputs": [
    {
     "name": "stdout",
     "output_type": "stream",
     "text": [
      "2 Pája\n",
      "3 Bob\n",
      "4 Míša\n"
     ]
    }
   ],
   "source": [
    "jmena = [\"Pája\", \"Bob\", \"Míša\"]\n",
    "\n",
    "for cislo,jmeno in enumerate(jmena,start=2):\n",
    "    print(cislo,jmeno)\n",
    "\n",
    "    #aha to je takhle ez"
   ]
  },
  {
   "cell_type": "markdown",
   "id": "d910fc7d",
   "metadata": {},
   "source": [
    "O\n",
    "---"
   ]
  },
  {
   "cell_type": "markdown",
   "id": "ce0c8dc2",
   "metadata": {},
   "source": [
    "Úloha 2 - Rozdíl mezi maximem a minimem\n",
    "Napište funkci range_difference(numbers: list) -> int, která přijme seznam celých\n",
    "čísel a vrátí rozdíl mezi největším a nejmenším číslem v seznamu. Pokud je seznam prázdný,\n",
    "funkce vrátí 0.\n",
    "Příklad vstupu a výstupu:\n",
    "print(range_difference(numbers=[10,5,20,15])) #Výstup: 15 (20 - 5)\n",
    "print(range_difference(numbers=[-10,0,10])) #Výstup: 20 (10 -(-10))"
   ]
  },
  {
   "cell_type": "code",
   "execution_count": null,
   "id": "3459aec2",
   "metadata": {},
   "outputs": [
    {
     "name": "stdout",
     "output_type": "stream",
     "text": [
      "0\n",
      "95\n"
     ]
    }
   ],
   "source": [
    "def range_difference(numbers:list)->int:\n",
    "    if not numbers:\n",
    "        return 0\n",
    "    else:\n",
    "        return max(numbers) - min(numbers)\n",
    "    \n",
    "\n",
    "cisla = (1,6,5,7,8,96,2,1,45,6,7,89,5,1,3)\n",
    "cisla2 = ()\n",
    "print(range_difference(cisla2))\n",
    "print(range_difference(cisla))"
   ]
  },
  {
   "cell_type": "markdown",
   "id": "a23e496c",
   "metadata": {},
   "source": [
    "Úloha 3 - Spojení seznamů do slovníku\n",
    "Napište funkci lists_to_dict(keys: list, values: list) -> dict, která přijme dva\n",
    "seznamy: keys a values. Funkce vrátí slovník, kde klíče jsou prvky ze seznamu keys a hodnoty\n",
    "odpovídající prvky ze seznamu values. Pokud je v seznamu klíčů více prvků než v seznamu\n",
    "hodnot, zbylé klíče budou mít hodnotu None. Pokud je seznam klíčů prázdný, funkce vrátí prázdný\n",
    "slovník.\n",
    "Příklad vstupu a výstupu:\n",
    "print(lists_to_dict(keys=[\"a\", \"b\", \"c\"], values=[1, 2]))\n",
    "# Výstup: {'a': 1, 'b': 2, 'c': None}\n",
    "print(lists_to_dict(keys=[\"x\", \"y\"], values=[10, 20, 30]))\n",
    "# Výstup: {'x': 10, 'y': 20}"
   ]
  },
  {
   "cell_type": "code",
   "execution_count": null,
   "id": "92a324e8",
   "metadata": {},
   "outputs": [
    {
     "name": "stdout",
     "output_type": "stream",
     "text": [
      "['c']\n"
     ]
    },
    {
     "data": {
      "text/plain": [
       "{'a': 1, 'b': 2, 'c': None}"
      ]
     },
     "execution_count": 14,
     "metadata": {},
     "output_type": "execute_result"
    }
   ],
   "source": [
    "\n",
    "def lists_to_dict(keys: list, values: list) -> dict:\n",
    "    slovnicek = dict(zip(keys, values))\n",
    "\n",
    "    zbytek = keys[len(values):]\n",
    "    print(zbytek)\n",
    "    if len(keys) > len(values): #jo pracujeme precejenom se seznamy\n",
    "        for klic in zbytek:\n",
    "            slovnicek[klic] = None\n",
    "    return slovnicek\n",
    "\n",
    "\n",
    "keys=[\"a\", \"b\", \"c\"]\n",
    "values=[1, 2]\n",
    "\n",
    "lists_to_dict(keys, values)\n",
    "\n",
    "#OKA SEEMS COOL BUT NEVEDEL JSEM JAK PRACOVAT SE SEZNAMY MOC UDELAM SI NA TO NEJAKY ULOHY"
   ]
  },
  {
   "cell_type": "code",
   "execution_count": null,
   "id": "90099543",
   "metadata": {},
   "outputs": [
    {
     "name": "stdout",
     "output_type": "stream",
     "text": [
      "jmeno Zdeněk\n",
      "prijmeni Toušek\n",
      "Pritelkyne Pájinka\n",
      "AUTAK BOB\n",
      "PRUUSER\n"
     ]
    }
   ],
   "source": [
    "slovnicek = {\"jmeno\":\"Zdeněk\", \"prijmeni\": \"Toušek\" }\n",
    "\n",
    "\n",
    "\n",
    "slovnicek[\"Pritelkyne\"] = \"Pájinka\"\n",
    "slovnicek[\"AUTAK\"] = \"BOB\"\n",
    "\n",
    "\n",
    "for zaznam, hodnota in slovnicek.items():\n",
    "    print(zaznam, hodnota)\n",
    "\n",
    "if \"auto\" not in slovnicek:\n",
    "    print(\"PRUUSER\")\n",
    "\n"
   ]
  },
  {
   "cell_type": "markdown",
   "id": "d6a6b1e3",
   "metadata": {},
   "source": [
    "M\n",
    "---"
   ]
  },
  {
   "cell_type": "markdown",
   "id": "2b006246",
   "metadata": {},
   "source": [
    "Úloha 1 - Sloučení a seřazení čísel\n",
    "Vytvořte program, který provede následující kroky:\n",
    "● Načte dva textové soubory numbers1.txt a numbers2.txt, z nichž každý obsahuje jedno celé\n",
    "číslo na řádku.\n",
    "● Spojí všechna čísla z obou souborů do jednoho vzestupně seřazeného seznamu.\n",
    "● Výsledný seznam uloží do nového souboru sorted_numbers.txt, kde každé číslo bude na\n",
    "samostatném řádku.\n",
    "Příklad: Obsah souboru numbers1.txt:\n",
    "10\n",
    "30\n",
    "20\n",
    "Obsah souboru numbers2.txt:\n",
    "5\n",
    "25\n",
    "15\n",
    "Obsah vytvořeného souboru sorted_numbers.txt:\n",
    "5\n",
    "10\n",
    "15\n",
    "20\n",
    "25\n",
    "30\n"
   ]
  },
  {
   "cell_type": "code",
   "execution_count": null,
   "id": "a8bd2be4",
   "metadata": {},
   "outputs": [
    {
     "ename": "FileNotFoundError",
     "evalue": "[Errno 2] No such file or directory: 'numbers1.txt'",
     "output_type": "error",
     "traceback": [
      "\u001b[31m---------------------------------------------------------------------------\u001b[39m",
      "\u001b[31mFileNotFoundError\u001b[39m                         Traceback (most recent call last)",
      "\u001b[36mCell\u001b[39m\u001b[36m \u001b[39m\u001b[32mIn[33]\u001b[39m\u001b[32m, line 1\u001b[39m\n\u001b[32m----> \u001b[39m\u001b[32m1\u001b[39m \u001b[38;5;28;01mwith\u001b[39;00m \u001b[38;5;28;43mopen\u001b[39;49m\u001b[43m(\u001b[49m\u001b[33;43m\"\u001b[39;49m\u001b[33;43mnumbers1.txt\u001b[39;49m\u001b[33;43m\"\u001b[39;49m\u001b[43m,\u001b[49m\u001b[43m \u001b[49m\u001b[33;43m\"\u001b[39;49m\u001b[33;43mr\u001b[39;49m\u001b[33;43m\"\u001b[39;49m\u001b[43m)\u001b[49m \u001b[38;5;28;01mas\u001b[39;00m soubor1, \u001b[38;5;28mopen\u001b[39m(\u001b[33m\"\u001b[39m\u001b[33mnumbers2.txt\u001b[39m\u001b[33m\"\u001b[39m, \u001b[33m\"\u001b[39m\u001b[33mr\u001b[39m\u001b[33m\"\u001b[39m) \u001b[38;5;28;01mas\u001b[39;00m soubor2, \u001b[38;5;28mopen\u001b[39m(\u001b[33m\"\u001b[39m\u001b[33msorted_numbers.txt\u001b[39m\u001b[33m\"\u001b[39m, \u001b[33m\"\u001b[39m\u001b[33mw\u001b[39m\u001b[33m\"\u001b[39m) \u001b[38;5;28;01mas\u001b[39;00m vystup:\n\u001b[32m      2\u001b[39m     radky1 = soubor1.readlines()\n\u001b[32m      3\u001b[39m     radky2 = soubor2.readlines()\n",
      "\u001b[36mFile \u001b[39m\u001b[32m~\\AppData\\Roaming\\Python\\Python313\\site-packages\\IPython\\core\\interactiveshell.py:326\u001b[39m, in \u001b[36m_modified_open\u001b[39m\u001b[34m(file, *args, **kwargs)\u001b[39m\n\u001b[32m    319\u001b[39m \u001b[38;5;28;01mif\u001b[39;00m file \u001b[38;5;129;01min\u001b[39;00m {\u001b[32m0\u001b[39m, \u001b[32m1\u001b[39m, \u001b[32m2\u001b[39m}:\n\u001b[32m    320\u001b[39m     \u001b[38;5;28;01mraise\u001b[39;00m \u001b[38;5;167;01mValueError\u001b[39;00m(\n\u001b[32m    321\u001b[39m         \u001b[33mf\u001b[39m\u001b[33m\"\u001b[39m\u001b[33mIPython won\u001b[39m\u001b[33m'\u001b[39m\u001b[33mt let you open fd=\u001b[39m\u001b[38;5;132;01m{\u001b[39;00mfile\u001b[38;5;132;01m}\u001b[39;00m\u001b[33m by default \u001b[39m\u001b[33m\"\u001b[39m\n\u001b[32m    322\u001b[39m         \u001b[33m\"\u001b[39m\u001b[33mas it is likely to crash IPython. If you know what you are doing, \u001b[39m\u001b[33m\"\u001b[39m\n\u001b[32m    323\u001b[39m         \u001b[33m\"\u001b[39m\u001b[33myou can use builtins\u001b[39m\u001b[33m'\u001b[39m\u001b[33m open.\u001b[39m\u001b[33m\"\u001b[39m\n\u001b[32m    324\u001b[39m     )\n\u001b[32m--> \u001b[39m\u001b[32m326\u001b[39m \u001b[38;5;28;01mreturn\u001b[39;00m \u001b[43mio_open\u001b[49m\u001b[43m(\u001b[49m\u001b[43mfile\u001b[49m\u001b[43m,\u001b[49m\u001b[43m \u001b[49m\u001b[43m*\u001b[49m\u001b[43margs\u001b[49m\u001b[43m,\u001b[49m\u001b[43m \u001b[49m\u001b[43m*\u001b[49m\u001b[43m*\u001b[49m\u001b[43mkwargs\u001b[49m\u001b[43m)\u001b[49m\n",
      "\u001b[31mFileNotFoundError\u001b[39m: [Errno 2] No such file or directory: 'numbers1.txt'"
     ]
    }
   ],
   "source": [
    "with open(\"numbers1.txt\", \"r\") as soubor1, open(\"numbers2.txt\", \"r\") as soubor2, open(\"sorted_numbers.txt\", \"w\") as vystup:\n",
    "    radky1 = soubor1.readlines()\n",
    "    radky2 = soubor2.readlines()\n",
    "    docasnej = []\n",
    "    for radek in radky1:\n",
    "        docasnej.append(int(radek.strip()))\n",
    "    for radek in radky2:\n",
    "        docasnej.append(int(radek.strip()))\n",
    "    docasnej = sorted(docasnej)\n",
    "    for cislo in docasnej:\n",
    "        vystup.write(f\"{cislo} \\n\")\n",
    "    \n",
    "\n",
    "    #co jsem opravil po dokodovani ? int byl pridanej a upraveny syntaxe vystup.write \n",
    "\n",
    "    "
   ]
  },
  {
   "cell_type": "markdown",
   "id": "81267492",
   "metadata": {},
   "source": [
    "Úloha 2 - Druhé největší číslo\n",
    "Napište funkci second_largest(numbers: list) -> int, která přijme seznam čísel a vrátí\n",
    "druhé největší číslo v seznamu. Pokud seznam obsahuje méně než dvě různá čísla, funkce vrátí\n",
    "None.\n",
    "Příklad vstupu a výstupu:\n",
    "print(second_largest(numbers=[10, 20, 30, 40, 50])) # Výstup: 40\n",
    "print(second_largest(numbers=[1, 1, 1, 2])) # Výstup: 1\n"
   ]
  },
  {
   "cell_type": "code",
   "execution_count": null,
   "id": "a8b6b47f",
   "metadata": {},
   "outputs": [
    {
     "data": {
      "text/plain": [
       "46"
      ]
     },
     "execution_count": 50,
     "metadata": {},
     "output_type": "execute_result"
    }
   ],
   "source": [
    "def second_largest(numbers: list) -> int:\n",
    "    setridene = sorted(numbers)\n",
    "    setridene.pop(-1)\n",
    "    return max(setridene)\n",
    "\n",
    "\n",
    "numbers=[10, 20, 30, 40, 50]\n",
    "\n",
    "#second_largest(numbers)\n",
    "\n",
    "#tohle by šlo za předpokladu že zname seznam a vime ze tam to nejvetsi neni vickrat\n",
    "\n",
    "def secound_largest2(numbers: list) -> int:\n",
    "    setridene = sorted(list(set(numbers)))\n",
    "    return setridene[-2]\n",
    "\n",
    "numbers=[10, 20, 30, 40,45, 45,  50, 44, 46]\n",
    "\n",
    "secound_largest2(numbers)\n",
    "\n",
    "#oboje ma problem s duplicitou takze to udelame pres množiny\n",
    "\n",
    "def secound_largest_via_set(numbers: int)-> int:\n",
    "    NONDUPLICIT = set(numbers)\n",
    "    setridene = list(sorted(NONDUPLICIT))\n",
    "    setridene.pop(-1)\n",
    "    return max(setridene)\n",
    "\n",
    "\n",
    "secound_largest_via_set(numbers)\n",
    "\n"
   ]
  },
  {
   "cell_type": "markdown",
   "id": "a141ad69",
   "metadata": {},
   "source": [
    "Úloha 3 - Sloučení dvou řetězců\n",
    "Napište funkci merge_strings(s1: str, s2: str) -> str, která přijme dva řetězce a\n",
    "vrátí nový řetězec, ve kterém se střídají znaky z prvního a druhého řetězce. Pokud jeden řetězec\n",
    "skončí dříve, přidejte zbývající znaky z druhého řetězce na konec.\n",
    "Příklad vstupu a výstupu:\n",
    "print(merge_strings(s1=\"abc\", s2=\"12345\")) # Výstup: \"a1b2c345\"\n",
    "print(merge_strings(s1=\"hello\", s2=\"world\")) # Výstup: \"hweolrllod"
   ]
  },
  {
   "cell_type": "code",
   "execution_count": null,
   "id": "5ae90fc6",
   "metadata": {},
   "outputs": [],
   "source": [
    "def merge_strings(s1: str, s2: str) -> str: #FIXME\n",
    "    novy = []\n",
    "    stop = min(len(s1), len(s2))\n",
    "    for idx in range(0, stop, 1):\n",
    "        novy.append(s1[idx])\n",
    "        novy.append(s2[idx])\n",
    "    if len(s1) > len(s2):\n",
    "        novy.extend(s1[stop:])\n",
    "    else:\n",
    "        novy.extend(s2[stop:])\n",
    "    return \"\".join(novy)\n",
    "\n",
    "print(merge_strings(s1=\"abc\", s2=\"12345\")) # Výstup: \"a1b2c345\"\n",
    "\n",
    "\n",
    "#omylem jsem si smazal dalsich asi 2é radku NEFUNKCNIHO KODU TAKZE WHATWEWER\n",
    "\n"
   ]
  },
  {
   "cell_type": "code",
   "execution_count": null,
   "id": "aa808506",
   "metadata": {},
   "outputs": [
    {
     "name": "stdout",
     "output_type": "stream",
     "text": [
      "a1b2c345\n"
     ]
    }
   ],
   "source": [
    "def merge_strings(s1: str, s2: str) -> str: #FIXME\n",
    "    novy = []\n",
    "    for i,j in zip(s1,s2):    #TOHLE JE TO KOUZELNÝ ŘEŠENÍ for a, b in zip(s1, s2): \n",
    "        novy.append(i)\n",
    "        novy.append(j)\n",
    "\n",
    "    # if len(s1) == len(s2):\n",
    "    #         novy.append(i,j)\n",
    "    #     elif len(s1) > len(s2):\n",
    "    #         novy.append(i)\n",
    "    #     else:\n",
    "    #         novy.append(j)\n",
    "    \n",
    "    \n",
    "    #zkoušel jsem předtím extendovat ale nevěděl jsem jak ted to vim pac mi to chatko včera prozradil ale ted je rano takze to delam z hlavy xd lol\n",
    "    \n",
    "    novy.extend(s1[len(s2):]) #co nam to rika ? od delky s2 což vrátí INT do konce.. \n",
    "                                  #rozbal seznam od tohoto znaku do konce.. když to bude vic nic se neděje\n",
    "    novy.extend(s2[len(s1):]) #to stejny az na to že tady se to podiva ahaa jeste tady mam dalsi znaky no ja je rozbalim na konec\n",
    "    \n",
    "    \n",
    "    return(''.join(novy))  #FIXME join bych asi nevymslel musím se v něm víc vzdělat\n",
    "    \n",
    "    \n",
    "print(merge_strings(s1=\"abc\", s2=\"12345\")) # Výstup: \"a1b2c345\"\n",
    "\n",
    "\n",
    "#omylem jsem si smazal dalsich asi 2é radku NEFUNKCNIHO KODU TAKZE WHATWEWER\n",
    "\n"
   ]
  },
  {
   "cell_type": "markdown",
   "id": "3572e197",
   "metadata": {},
   "source": [
    "tadynato jsem uz nemel chatko pomohl ... vyresil\n",
    "---"
   ]
  },
  {
   "cell_type": "code",
   "execution_count": null,
   "id": "6ee8e215",
   "metadata": {},
   "outputs": [
    {
     "name": "stdout",
     "output_type": "stream",
     "text": [
      "a1b2c345\n"
     ]
    }
   ],
   "source": [
    "def merge_strings(s1: str, s2: str) -> str:\n",
    "    vysledek = []\n",
    "\n",
    "    # Střídání znaků z obou řetězců pomocí zip\n",
    "    for a, b in zip(s1, s2):\n",
    "        vysledek.append(a)\n",
    "        vysledek.append(b)\n",
    "\n",
    "    # Přidání zbytku z delšího řetězce\n",
    "    vysledek.extend(s1[len(s2):])\n",
    "    vysledek.extend(s2[len(s1):])\n",
    "\n",
    "    return ''.join(vysledek)\n",
    "\n",
    "\n",
    "print(merge_strings(s1=\"abc\", s2=\"12345\"))\n"
   ]
  },
  {
   "cell_type": "markdown",
   "id": "79c299f7",
   "metadata": {},
   "source": [
    "od chatka\n",
    "---"
   ]
  },
  {
   "cell_type": "code",
   "execution_count": null,
   "id": "4703cf94",
   "metadata": {},
   "outputs": [
    {
     "name": "stdout",
     "output_type": "stream",
     "text": [
      "Zdenda\n",
      "Z-d-e-n-d-a\n",
      "Z❤️d❤️e❤️n❤️d❤️a\n"
     ]
    }
   ],
   "source": [
    "seznam = ['Z', 'd', 'e', 'n', 'd', 'a']\n",
    "print(''.join(seznam))      # ?\n",
    "print('-'.join(seznam))     # ?\n",
    "print('❤️'.join(seznam))    # ?\n"
   ]
  },
  {
   "cell_type": "markdown",
   "id": "08b679c7",
   "metadata": {},
   "source": [
    "G\n",
    "---"
   ]
  },
  {
   "cell_type": "markdown",
   "id": "5bb73070",
   "metadata": {},
   "source": [
    "Úloha 1 - Odstranění prázdných řádků\n",
    "Vytvořte program, který provede následující kroky:\n",
    "● Načte textový soubor data.txt, kde každý řádek obsahuje text nebo je prázdný.\n",
    "● Odstraní všechny prázdné řádky.\n",
    "● Výsledek uloží do souboru cleaned_data.txt. Soubor cleaned_data.txt by neměl obsahovat\n",
    "žádné prázdné řádky, ale pořadí neprázdných řádků musí být zachováno.\n",
    "Příklad: Obsah souboru data.txt:\n",
    "Ahoj\n",
    "Python je skvělý\n",
    "Tento řádek není prázdný\n",
    "Další text\n",
    "Obsah vytvořeného souboru cleaned_data.txt:\n",
    "Ahoj\n",
    "Python je skvělý\n",
    "Tento řádek není prázdný\n",
    "Další text\n"
   ]
  },
  {
   "cell_type": "code",
   "execution_count": null,
   "id": "4eb8c3fd",
   "metadata": {},
   "outputs": [],
   "source": [
    "with open(\"data.txt\", \"r\") as soubor, open(\"cleaned_data.txt\", \"w\") as vystup:\n",
    "    radky = soubor.readlines()\n",
    "    for radek in radky:\n",
    "        if radek.strip():\n",
    "            vystup.write(radek)         #FIXME STRIP MI PORADIL CHATKO NORMALNE HO JINDE POUZIVAM.. XD KVULI /N LOGICKY DAVA TO SMYSL\n",
    "        elif not radek.strip():\n",
    "            print(f\"debug ..obsah radku: {radek} ..je prázdnný\")\n",
    "        "
   ]
  },
  {
   "cell_type": "markdown",
   "id": "36f81f08",
   "metadata": {},
   "source": [
    "Úloha 2 - Součet sudých čísel\n",
    "Napište funkci sum_even_numbers(numbers: list) -> int, která přijme seznam celých\n",
    "čísel a vrátí součet všech sudých čísel v seznamu. Pokud seznam neobsahuje žádné sudé číslo,\n",
    "funkce vrátí 0.\n",
    "Příklad vstupu a výstupu:\n",
    "print(sum_even_numbers(numbers=[1, 2, 3, 4, 5, 6])) # Výstup: 12\n",
    "print(sum_even_numbers(numbers=[10, 15, 20, 25])) # Výstup: 30\n"
   ]
  },
  {
   "cell_type": "code",
   "execution_count": null,
   "id": "16bd4a5d",
   "metadata": {},
   "outputs": [
    {
     "name": "stdout",
     "output_type": "stream",
     "text": [
      "6\n"
     ]
    }
   ],
   "source": [
    "#jop jdu se naucit labmdovat a filtrovat nechci to delat extra složitě xd\n",
    "\n",
    "def sum_even_numbers(numbers: list) -> int:\n",
    "    #hrubej navrh\n",
    "    suda = filter(lambda x: x % 2 == 0, numbers) #FIXME tohle by nemelo fungovat musim se naucit syntaxe chybí ==0 (zbytek po dělení)\n",
    "    \n",
    "    return sum(suda)\n",
    "\n",
    "print(sum_even_numbers([1, 2, 3, 4]))"
   ]
  },
  {
   "cell_type": "code",
   "execution_count": null,
   "id": "e78d3f52",
   "metadata": {},
   "outputs": [
    {
     "name": "stdout",
     "output_type": "stream",
     "text": [
      "6\n"
     ]
    }
   ],
   "source": [
    "def sum_even_numbers(numbers: list) -> int:\n",
    "    suda = []\n",
    "    for num in numbers:\n",
    "        if num % 2 == 0:\n",
    "            suda.append(num)\n",
    "    return sum(suda)\n",
    "\n",
    "print(sum_even_numbers([1, 2, 3, 4]))"
   ]
  },
  {
   "cell_type": "markdown",
   "id": "502da066",
   "metadata": {},
   "source": [
    "Úloha 3 - Reálná čísla v intervalu\n",
    "Napište funkci numbers_in_range(numbers: list, lower: float, upper: float)\n",
    "-> list, která přijme seznam reálných čísel numbers a vrátí seznam čísel, která spadají do\n",
    "intervalu [lower, upper] včetně.\n",
    "Příklad vstupu a výstupu:\n",
    "numbers = [1.5, 2.3, 4.8, 3.0, 5.1]\n",
    "lower = 2.0\n",
    "upper = 4.5\n",
    "print(numbers_in_range(numbers, lower, upper)) # Výstup: [2.3, 3.0]"
   ]
  },
  {
   "cell_type": "code",
   "execution_count": null,
   "id": "54e31d56",
   "metadata": {},
   "outputs": [
    {
     "name": "stdout",
     "output_type": "stream",
     "text": [
      "[1.5, 2.0, 2.3, 3.0, 4.5, 4.8, 5.1]\n"
     ]
    },
    {
     "ename": "TypeError",
     "evalue": "slice indices must be integers or None or have an __index__ method",
     "output_type": "error",
     "traceback": [
      "\u001b[31m---------------------------------------------------------------------------\u001b[39m",
      "\u001b[31mTypeError\u001b[39m                                 Traceback (most recent call last)",
      "\u001b[36mCell\u001b[39m\u001b[36m \u001b[39m\u001b[32mIn[24]\u001b[39m\u001b[32m, line 23\u001b[39m\n\u001b[32m     20\u001b[39m lower = \u001b[32m2.0\u001b[39m\n\u001b[32m     21\u001b[39m upper = \u001b[32m4.5\u001b[39m\n\u001b[32m---> \u001b[39m\u001b[32m23\u001b[39m \u001b[38;5;28mprint\u001b[39m(\u001b[43mnumbers_in_range\u001b[49m\u001b[43m(\u001b[49m\u001b[43mnumbers\u001b[49m\u001b[43m,\u001b[49m\u001b[43mlower\u001b[49m\u001b[43m,\u001b[49m\u001b[43mupper\u001b[49m\u001b[43m)\u001b[49m)\n",
      "\u001b[36mCell\u001b[39m\u001b[36m \u001b[39m\u001b[32mIn[24]\u001b[39m\u001b[32m, line 12\u001b[39m, in \u001b[36mnumbers_in_range\u001b[39m\u001b[34m(numbers, lower, upper)\u001b[39m\n\u001b[32m      9\u001b[39m numbers.sort()\n\u001b[32m     10\u001b[39m \u001b[38;5;28mprint\u001b[39m(numbers)\n\u001b[32m---> \u001b[39m\u001b[32m12\u001b[39m interval1 = \u001b[43mnumbers\u001b[49m\u001b[43m[\u001b[49m\u001b[43mlower\u001b[49m\u001b[43m:\u001b[49m\u001b[43mupper\u001b[49m\u001b[43m]\u001b[49m\n\u001b[32m     14\u001b[39m \u001b[38;5;66;03m# interval2 = numbers[:upper] BULLSHIT\u001b[39;00m\n\u001b[32m     15\u001b[39m \u001b[38;5;66;03m# return list(interval1+interval2)\u001b[39;00m\n\u001b[32m     16\u001b[39m \u001b[38;5;28;01mreturn\u001b[39;00m \u001b[38;5;28mlist\u001b[39m(interval1)\n",
      "\u001b[31mTypeError\u001b[39m: slice indices must be integers or None or have an __index__ method"
     ]
    }
   ],
   "source": [
    "#určitě použiju slicing\n",
    "\n",
    "#TypeError: slice indices must be integers or None or have an __index__ method ... nevim jak slicovats floatem\n",
    "\n",
    "\n",
    "def numbers_in_range(numbers: list, lower: float, upper: float) -> list:\n",
    "    numbers.insert(0,lower)\n",
    "    numbers.insert(-1,upper)\n",
    "    numbers.sort()\n",
    "    print(numbers)\n",
    "    \n",
    "    interval1 = numbers[lower:upper]\n",
    "    \n",
    "    # interval2 = numbers[:upper] BULLSHIT\n",
    "    # return list(interval1+interval2)\n",
    "    return list(interval1)\n",
    "\n",
    "\n",
    "numbers = [1.5, 2.3, 4.8, 3.0, 5.1]\n",
    "lower = 2.0\n",
    "upper = 4.5\n",
    "\n",
    "print(numbers_in_range(numbers,lower,upper))\n",
    "    "
   ]
  },
  {
   "cell_type": "code",
   "execution_count": null,
   "id": "de526cb5",
   "metadata": {},
   "outputs": [
    {
     "name": "stdout",
     "output_type": "stream",
     "text": [
      "[2.3, 3.0]\n"
     ]
    }
   ],
   "source": [
    "numbers = [1.5, 2.3, 4.8, 3.0, 5.1]\n",
    "lower = 2.0\n",
    "upper = 4.5\n",
    "\n",
    "def numbers_in_range(numbers,lower,upper):\n",
    "    nums = []\n",
    "    for num in numbers:\n",
    "        #if lower <= num <= upper:\n",
    "        if num >= lower and num <= upper:\n",
    "            nums.append(num)\n",
    "    return nums \n",
    "\n",
    "print(numbers_in_range(numbers,lower,upper))"
   ]
  }
 ],
 "metadata": {
  "kernelspec": {
   "display_name": "Python 3",
   "language": "python",
   "name": "python3"
  },
  "language_info": {
   "codemirror_mode": {
    "name": "ipython",
    "version": 3
   },
   "file_extension": ".py",
   "mimetype": "text/x-python",
   "name": "python",
   "nbconvert_exporter": "python",
   "pygments_lexer": "ipython3",
   "version": "3.13.3"
  }
 },
 "nbformat": 4,
 "nbformat_minor": 5
}
